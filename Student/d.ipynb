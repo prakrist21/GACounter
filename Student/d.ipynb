{
 "cells": [
  {
   "cell_type": "code",
   "execution_count": 29,
   "id": "16336e44",
   "metadata": {},
   "outputs": [
    {
     "data": {
      "text/html": [
       "<div>\n",
       "<style scoped>\n",
       "    .dataframe tbody tr th:only-of-type {\n",
       "        vertical-align: middle;\n",
       "    }\n",
       "\n",
       "    .dataframe tbody tr th {\n",
       "        vertical-align: top;\n",
       "    }\n",
       "\n",
       "    .dataframe thead th {\n",
       "        text-align: right;\n",
       "    }\n",
       "</style>\n",
       "<table border=\"1\" class=\"dataframe\">\n",
       "  <thead>\n",
       "    <tr style=\"text-align: right;\">\n",
       "      <th></th>\n",
       "      <th>Name</th>\n",
       "      <th>Class</th>\n",
       "      <th>Section</th>\n",
       "      <th>Gender</th>\n",
       "      <th>Math</th>\n",
       "      <th>Science</th>\n",
       "      <th>English</th>\n",
       "      <th>History</th>\n",
       "      <th>Total</th>\n",
       "      <th>Percentage</th>\n",
       "    </tr>\n",
       "  </thead>\n",
       "  <tbody>\n",
       "    <tr>\n",
       "      <th>0</th>\n",
       "      <td>Aarav</td>\n",
       "      <td>8</td>\n",
       "      <td>B</td>\n",
       "      <td>Female</td>\n",
       "      <td>81</td>\n",
       "      <td>78</td>\n",
       "      <td>66</td>\n",
       "      <td>76</td>\n",
       "      <td>301</td>\n",
       "      <td>75.25</td>\n",
       "    </tr>\n",
       "    <tr>\n",
       "      <th>1</th>\n",
       "      <td>Sita</td>\n",
       "      <td>8</td>\n",
       "      <td>C</td>\n",
       "      <td>Male</td>\n",
       "      <td>88</td>\n",
       "      <td>81</td>\n",
       "      <td>97</td>\n",
       "      <td>75</td>\n",
       "      <td>341</td>\n",
       "      <td>85.25</td>\n",
       "    </tr>\n",
       "    <tr>\n",
       "      <th>2</th>\n",
       "      <td>Rohan</td>\n",
       "      <td>8</td>\n",
       "      <td>B</td>\n",
       "      <td>Male</td>\n",
       "      <td>91</td>\n",
       "      <td>73</td>\n",
       "      <td>90</td>\n",
       "      <td>91</td>\n",
       "      <td>345</td>\n",
       "      <td>86.25</td>\n",
       "    </tr>\n",
       "    <tr>\n",
       "      <th>3</th>\n",
       "      <td>Nisha</td>\n",
       "      <td>6</td>\n",
       "      <td>B</td>\n",
       "      <td>Female</td>\n",
       "      <td>67</td>\n",
       "      <td>68</td>\n",
       "      <td>74</td>\n",
       "      <td>88</td>\n",
       "      <td>297</td>\n",
       "      <td>74.25</td>\n",
       "    </tr>\n",
       "    <tr>\n",
       "      <th>4</th>\n",
       "      <td>Karan</td>\n",
       "      <td>6</td>\n",
       "      <td>A</td>\n",
       "      <td>Female</td>\n",
       "      <td>79</td>\n",
       "      <td>70</td>\n",
       "      <td>74</td>\n",
       "      <td>79</td>\n",
       "      <td>302</td>\n",
       "      <td>75.50</td>\n",
       "    </tr>\n",
       "    <tr>\n",
       "      <th>5</th>\n",
       "      <td>Priya</td>\n",
       "      <td>6</td>\n",
       "      <td>B</td>\n",
       "      <td>Female</td>\n",
       "      <td>84</td>\n",
       "      <td>91</td>\n",
       "      <td>90</td>\n",
       "      <td>79</td>\n",
       "      <td>344</td>\n",
       "      <td>86.00</td>\n",
       "    </tr>\n",
       "    <tr>\n",
       "      <th>6</th>\n",
       "      <td>Rahul</td>\n",
       "      <td>6</td>\n",
       "      <td>B</td>\n",
       "      <td>Male</td>\n",
       "      <td>77</td>\n",
       "      <td>75</td>\n",
       "      <td>76</td>\n",
       "      <td>87</td>\n",
       "      <td>315</td>\n",
       "      <td>78.75</td>\n",
       "    </tr>\n",
       "    <tr>\n",
       "      <th>7</th>\n",
       "      <td>Anita</td>\n",
       "      <td>6</td>\n",
       "      <td>C</td>\n",
       "      <td>Male</td>\n",
       "      <td>66</td>\n",
       "      <td>76</td>\n",
       "      <td>78</td>\n",
       "      <td>76</td>\n",
       "      <td>296</td>\n",
       "      <td>74.00</td>\n",
       "    </tr>\n",
       "    <tr>\n",
       "      <th>8</th>\n",
       "      <td>Vikram</td>\n",
       "      <td>8</td>\n",
       "      <td>A</td>\n",
       "      <td>Male</td>\n",
       "      <td>98</td>\n",
       "      <td>75</td>\n",
       "      <td>91</td>\n",
       "      <td>95</td>\n",
       "      <td>359</td>\n",
       "      <td>89.75</td>\n",
       "    </tr>\n",
       "    <tr>\n",
       "      <th>9</th>\n",
       "      <td>Neha</td>\n",
       "      <td>8</td>\n",
       "      <td>A</td>\n",
       "      <td>Male</td>\n",
       "      <td>79</td>\n",
       "      <td>82</td>\n",
       "      <td>67</td>\n",
       "      <td>78</td>\n",
       "      <td>306</td>\n",
       "      <td>76.50</td>\n",
       "    </tr>\n",
       "  </tbody>\n",
       "</table>\n",
       "</div>"
      ],
      "text/plain": [
       "     Name  Class Section  Gender  Math  Science  English  History  Total  \\\n",
       "0   Aarav      8       B  Female    81       78       66       76    301   \n",
       "1    Sita      8       C    Male    88       81       97       75    341   \n",
       "2   Rohan      8       B    Male    91       73       90       91    345   \n",
       "3   Nisha      6       B  Female    67       68       74       88    297   \n",
       "4   Karan      6       A  Female    79       70       74       79    302   \n",
       "5   Priya      6       B  Female    84       91       90       79    344   \n",
       "6   Rahul      6       B    Male    77       75       76       87    315   \n",
       "7   Anita      6       C    Male    66       76       78       76    296   \n",
       "8  Vikram      8       A    Male    98       75       91       95    359   \n",
       "9    Neha      8       A    Male    79       82       67       78    306   \n",
       "\n",
       "   Percentage  \n",
       "0       75.25  \n",
       "1       85.25  \n",
       "2       86.25  \n",
       "3       74.25  \n",
       "4       75.50  \n",
       "5       86.00  \n",
       "6       78.75  \n",
       "7       74.00  \n",
       "8       89.75  \n",
       "9       76.50  "
      ]
     },
     "execution_count": 29,
     "metadata": {},
     "output_type": "execute_result"
    }
   ],
   "source": [
    "import pandas as pd\n",
    "import random\n",
    "\n",
    "# Sample data\n",
    "names = [\n",
    "    \"Aarav\", \"Sita\", \"Rohan\", \"Nisha\", \"Karan\", \"Priya\", \"Rahul\", \"Anita\", \"Vikram\", \"Neha\", \"Manish\", \"Ritu\", \"Kabir\", \"Meena\", \"Arjun\", \"Pooja\", \"Yash\", \"Kavya\", \"Dev\", \"Anjali\", \"Rakesh\", \"Sunita\", \"Ishaan\", \"Deepa\", \"Aman\", \"Rina\", \"Suraj\", \"Lata\", \"Tushar\", \"Komal\", \"Niraj\", \"Aastha\", \"Milan\", \"Bina\", \"Abhishek\", \"Rekha\", \"Suman\", \"Chhaya\", \"Binod\", \"Alisha\", \"Bimal\", \"Jyoti\", \"Hemant\", \"Karishma\", \"Raju\", \"Aakriti\", \"Sagar\", \"Namrata\", \"Gaurav\", \"Smriti\", \"Dipesh\", \"Manju\", \"Rajesh\", \"Sandhya\", \"Roshan\", \"Kusum\", \"Bikash\", \"Tara\", \"Ashish\", \"Parbati\", \"Rabin\", \"Manisha\", \"Prakash\", \"Indira\", \"Anup\", \"Shreya\", \"Nabin\", \"Keshav\", \"Sarita\", \"Sudeep\", \"Dipa\", \"Sujan\", \"Rachana\", \"Ganesh\", \"Urmila\", \"Pritam\", \"Madhu\", \"Rajan\", \"Ishwori\", \"Naresh\", \"Bhawana\", \"Laxman\", \"Kalpana\", \"Mahesh\", \"Arati\", \"Shyam\", \"Sumitra\", \"Tej\", \"Malati\", \"Kishor\", \"Chandani\", \"Bijay\", \"Shila\", \"Ritesh\", \"Nirmala\", \"Santosh\", \"Hema\", \"Pawan\", \"Roshni\"\n",
    "]\n",
    "classes = [6, 7, 8]\n",
    "sections = ['A', 'B', 'C']\n",
    "genders = ['Male', 'Female']\n",
    "\n",
    "# Controlled variance marks generation function\n",
    "def generate_marks():\n",
    "    return random.randint(65, 98)\n",
    "\n",
    "# Create DataFrame\n",
    "data = []\n",
    "for name in names:\n",
    "    cls = random.choice(classes)\n",
    "    sec = random.choice(sections)\n",
    "    gender = random.choice(genders)\n",
    "    math = generate_marks()\n",
    "    science = generate_marks()\n",
    "    english = generate_marks()\n",
    "    history = generate_marks()\n",
    "    total = math + science + english + history\n",
    "    percentage = round(total / 4, 2)\n",
    "    data.append([name, cls, sec, gender, math, science, english, history, total, percentage])\n",
    "\n",
    "columns = [\n",
    "    \"Name\", \"Class\", \"Section\", \"Gender\",\n",
    "    \"Math\", \"Science\", \"English\", \"History\", \"Total\", \"Percentage\"\n",
    "]\n",
    "df = pd.DataFrame(data, columns=columns)\n",
    "df.head(10)\n"
   ]
  },
  {
   "cell_type": "code",
   "execution_count": 30,
   "id": "1f0cd648",
   "metadata": {},
   "outputs": [
    {
     "data": {
      "text/html": [
       "<div>\n",
       "<style scoped>\n",
       "    .dataframe tbody tr th:only-of-type {\n",
       "        vertical-align: middle;\n",
       "    }\n",
       "\n",
       "    .dataframe tbody tr th {\n",
       "        vertical-align: top;\n",
       "    }\n",
       "\n",
       "    .dataframe thead th {\n",
       "        text-align: right;\n",
       "    }\n",
       "</style>\n",
       "<table border=\"1\" class=\"dataframe\">\n",
       "  <thead>\n",
       "    <tr style=\"text-align: right;\">\n",
       "      <th></th>\n",
       "      <th>Name</th>\n",
       "      <th>Class</th>\n",
       "      <th>Section</th>\n",
       "      <th>Gender</th>\n",
       "      <th>Math</th>\n",
       "      <th>Science</th>\n",
       "      <th>English</th>\n",
       "      <th>History</th>\n",
       "      <th>Total</th>\n",
       "      <th>Percentage</th>\n",
       "    </tr>\n",
       "  </thead>\n",
       "  <tbody>\n",
       "    <tr>\n",
       "      <th>0</th>\n",
       "      <td>Aarav</td>\n",
       "      <td>8</td>\n",
       "      <td>B</td>\n",
       "      <td>Female</td>\n",
       "      <td>81</td>\n",
       "      <td>78</td>\n",
       "      <td>66</td>\n",
       "      <td>76</td>\n",
       "      <td>301</td>\n",
       "      <td>75.25</td>\n",
       "    </tr>\n",
       "    <tr>\n",
       "      <th>1</th>\n",
       "      <td>Sita</td>\n",
       "      <td>8</td>\n",
       "      <td>C</td>\n",
       "      <td>Male</td>\n",
       "      <td>88</td>\n",
       "      <td>81</td>\n",
       "      <td>97</td>\n",
       "      <td>75</td>\n",
       "      <td>341</td>\n",
       "      <td>85.25</td>\n",
       "    </tr>\n",
       "    <tr>\n",
       "      <th>2</th>\n",
       "      <td>Rohan</td>\n",
       "      <td>8</td>\n",
       "      <td>B</td>\n",
       "      <td>Male</td>\n",
       "      <td>91</td>\n",
       "      <td>73</td>\n",
       "      <td>90</td>\n",
       "      <td>91</td>\n",
       "      <td>345</td>\n",
       "      <td>86.25</td>\n",
       "    </tr>\n",
       "    <tr>\n",
       "      <th>3</th>\n",
       "      <td>Nisha</td>\n",
       "      <td>6</td>\n",
       "      <td>B</td>\n",
       "      <td>Female</td>\n",
       "      <td>67</td>\n",
       "      <td>68</td>\n",
       "      <td>74</td>\n",
       "      <td>88</td>\n",
       "      <td>297</td>\n",
       "      <td>74.25</td>\n",
       "    </tr>\n",
       "    <tr>\n",
       "      <th>4</th>\n",
       "      <td>Karan</td>\n",
       "      <td>6</td>\n",
       "      <td>A</td>\n",
       "      <td>Female</td>\n",
       "      <td>79</td>\n",
       "      <td>70</td>\n",
       "      <td>74</td>\n",
       "      <td>79</td>\n",
       "      <td>302</td>\n",
       "      <td>75.50</td>\n",
       "    </tr>\n",
       "    <tr>\n",
       "      <th>...</th>\n",
       "      <td>...</td>\n",
       "      <td>...</td>\n",
       "      <td>...</td>\n",
       "      <td>...</td>\n",
       "      <td>...</td>\n",
       "      <td>...</td>\n",
       "      <td>...</td>\n",
       "      <td>...</td>\n",
       "      <td>...</td>\n",
       "      <td>...</td>\n",
       "    </tr>\n",
       "    <tr>\n",
       "      <th>94</th>\n",
       "      <td>Nirmala</td>\n",
       "      <td>6</td>\n",
       "      <td>C</td>\n",
       "      <td>Male</td>\n",
       "      <td>78</td>\n",
       "      <td>70</td>\n",
       "      <td>94</td>\n",
       "      <td>80</td>\n",
       "      <td>322</td>\n",
       "      <td>80.50</td>\n",
       "    </tr>\n",
       "    <tr>\n",
       "      <th>95</th>\n",
       "      <td>Santosh</td>\n",
       "      <td>6</td>\n",
       "      <td>A</td>\n",
       "      <td>Female</td>\n",
       "      <td>75</td>\n",
       "      <td>72</td>\n",
       "      <td>86</td>\n",
       "      <td>79</td>\n",
       "      <td>312</td>\n",
       "      <td>78.00</td>\n",
       "    </tr>\n",
       "    <tr>\n",
       "      <th>96</th>\n",
       "      <td>Hema</td>\n",
       "      <td>6</td>\n",
       "      <td>A</td>\n",
       "      <td>Male</td>\n",
       "      <td>65</td>\n",
       "      <td>81</td>\n",
       "      <td>90</td>\n",
       "      <td>81</td>\n",
       "      <td>317</td>\n",
       "      <td>79.25</td>\n",
       "    </tr>\n",
       "    <tr>\n",
       "      <th>97</th>\n",
       "      <td>Pawan</td>\n",
       "      <td>6</td>\n",
       "      <td>C</td>\n",
       "      <td>Male</td>\n",
       "      <td>98</td>\n",
       "      <td>86</td>\n",
       "      <td>96</td>\n",
       "      <td>81</td>\n",
       "      <td>361</td>\n",
       "      <td>90.25</td>\n",
       "    </tr>\n",
       "    <tr>\n",
       "      <th>98</th>\n",
       "      <td>Roshni</td>\n",
       "      <td>6</td>\n",
       "      <td>B</td>\n",
       "      <td>Male</td>\n",
       "      <td>88</td>\n",
       "      <td>81</td>\n",
       "      <td>83</td>\n",
       "      <td>70</td>\n",
       "      <td>322</td>\n",
       "      <td>80.50</td>\n",
       "    </tr>\n",
       "  </tbody>\n",
       "</table>\n",
       "<p>99 rows × 10 columns</p>\n",
       "</div>"
      ],
      "text/plain": [
       "       Name  Class Section  Gender  Math  Science  English  History  Total  \\\n",
       "0     Aarav      8       B  Female    81       78       66       76    301   \n",
       "1      Sita      8       C    Male    88       81       97       75    341   \n",
       "2     Rohan      8       B    Male    91       73       90       91    345   \n",
       "3     Nisha      6       B  Female    67       68       74       88    297   \n",
       "4     Karan      6       A  Female    79       70       74       79    302   \n",
       "..      ...    ...     ...     ...   ...      ...      ...      ...    ...   \n",
       "94  Nirmala      6       C    Male    78       70       94       80    322   \n",
       "95  Santosh      6       A  Female    75       72       86       79    312   \n",
       "96     Hema      6       A    Male    65       81       90       81    317   \n",
       "97    Pawan      6       C    Male    98       86       96       81    361   \n",
       "98   Roshni      6       B    Male    88       81       83       70    322   \n",
       "\n",
       "    Percentage  \n",
       "0        75.25  \n",
       "1        85.25  \n",
       "2        86.25  \n",
       "3        74.25  \n",
       "4        75.50  \n",
       "..         ...  \n",
       "94       80.50  \n",
       "95       78.00  \n",
       "96       79.25  \n",
       "97       90.25  \n",
       "98       80.50  \n",
       "\n",
       "[99 rows x 10 columns]"
      ]
     },
     "execution_count": 30,
     "metadata": {},
     "output_type": "execute_result"
    }
   ],
   "source": [
    "df"
   ]
  },
  {
   "cell_type": "code",
   "execution_count": 31,
   "id": "80dcf55d",
   "metadata": {},
   "outputs": [],
   "source": [
    "df.to_csv(\"Data.csv\",index=False)"
   ]
  },
  {
   "cell_type": "code",
   "execution_count": 32,
   "id": "142b6f37",
   "metadata": {},
   "outputs": [
    {
     "data": {
      "text/plain": [
       "99"
      ]
     },
     "execution_count": 32,
     "metadata": {},
     "output_type": "execute_result"
    }
   ],
   "source": [
    "len(df)"
   ]
  },
  {
   "cell_type": "code",
   "execution_count": 33,
   "id": "9b25d0ab",
   "metadata": {},
   "outputs": [
    {
     "data": {
      "text/plain": [
       "Index(['Name', 'Class', 'Section', 'Gender', 'Math', 'Science', 'English',\n",
       "       'History', 'Total', 'Percentage'],\n",
       "      dtype='object')"
      ]
     },
     "execution_count": 33,
     "metadata": {},
     "output_type": "execute_result"
    }
   ],
   "source": [
    "df.columns"
   ]
  },
  {
   "cell_type": "code",
   "execution_count": 34,
   "id": "7c56e9e8",
   "metadata": {},
   "outputs": [
    {
     "data": {
      "text/html": [
       "<div>\n",
       "<style scoped>\n",
       "    .dataframe tbody tr th:only-of-type {\n",
       "        vertical-align: middle;\n",
       "    }\n",
       "\n",
       "    .dataframe tbody tr th {\n",
       "        vertical-align: top;\n",
       "    }\n",
       "\n",
       "    .dataframe thead th {\n",
       "        text-align: right;\n",
       "    }\n",
       "</style>\n",
       "<table border=\"1\" class=\"dataframe\">\n",
       "  <thead>\n",
       "    <tr style=\"text-align: right;\">\n",
       "      <th></th>\n",
       "      <th>Name</th>\n",
       "      <th>Class</th>\n",
       "      <th>Section</th>\n",
       "      <th>Gender</th>\n",
       "      <th>Math</th>\n",
       "      <th>Science</th>\n",
       "      <th>English</th>\n",
       "      <th>History</th>\n",
       "      <th>Total</th>\n",
       "      <th>Percentage</th>\n",
       "    </tr>\n",
       "  </thead>\n",
       "  <tbody>\n",
       "    <tr>\n",
       "      <th>0</th>\n",
       "      <td>Aarav</td>\n",
       "      <td>8</td>\n",
       "      <td>B</td>\n",
       "      <td>Female</td>\n",
       "      <td>81</td>\n",
       "      <td>78</td>\n",
       "      <td>66</td>\n",
       "      <td>76</td>\n",
       "      <td>301</td>\n",
       "      <td>75.25</td>\n",
       "    </tr>\n",
       "    <tr>\n",
       "      <th>1</th>\n",
       "      <td>Sita</td>\n",
       "      <td>8</td>\n",
       "      <td>C</td>\n",
       "      <td>Male</td>\n",
       "      <td>88</td>\n",
       "      <td>81</td>\n",
       "      <td>97</td>\n",
       "      <td>75</td>\n",
       "      <td>341</td>\n",
       "      <td>85.25</td>\n",
       "    </tr>\n",
       "  </tbody>\n",
       "</table>\n",
       "</div>"
      ],
      "text/plain": [
       "    Name  Class Section  Gender  Math  Science  English  History  Total  \\\n",
       "0  Aarav      8       B  Female    81       78       66       76    301   \n",
       "1   Sita      8       C    Male    88       81       97       75    341   \n",
       "\n",
       "   Percentage  \n",
       "0       75.25  \n",
       "1       85.25  "
      ]
     },
     "execution_count": 34,
     "metadata": {},
     "output_type": "execute_result"
    }
   ],
   "source": [
    "df.head(2)"
   ]
  },
  {
   "cell_type": "code",
   "execution_count": 36,
   "id": "29e1eac9",
   "metadata": {},
   "outputs": [
    {
     "data": {
      "text/html": [
       "<div>\n",
       "<style scoped>\n",
       "    .dataframe tbody tr th:only-of-type {\n",
       "        vertical-align: middle;\n",
       "    }\n",
       "\n",
       "    .dataframe tbody tr th {\n",
       "        vertical-align: top;\n",
       "    }\n",
       "\n",
       "    .dataframe thead th {\n",
       "        text-align: right;\n",
       "    }\n",
       "</style>\n",
       "<table border=\"1\" class=\"dataframe\">\n",
       "  <thead>\n",
       "    <tr style=\"text-align: right;\">\n",
       "      <th></th>\n",
       "      <th>Class</th>\n",
       "      <th>Name</th>\n",
       "    </tr>\n",
       "  </thead>\n",
       "  <tbody>\n",
       "    <tr>\n",
       "      <th>0</th>\n",
       "      <td>6</td>\n",
       "      <td>42</td>\n",
       "    </tr>\n",
       "    <tr>\n",
       "      <th>1</th>\n",
       "      <td>7</td>\n",
       "      <td>26</td>\n",
       "    </tr>\n",
       "    <tr>\n",
       "      <th>2</th>\n",
       "      <td>8</td>\n",
       "      <td>31</td>\n",
       "    </tr>\n",
       "  </tbody>\n",
       "</table>\n",
       "</div>"
      ],
      "text/plain": [
       "   Class  Name\n",
       "0      6    42\n",
       "1      7    26\n",
       "2      8    31"
      ]
     },
     "execution_count": 36,
     "metadata": {},
     "output_type": "execute_result"
    }
   ],
   "source": [
    "df.groupby('Class')['Name'].count().reset_index()"
   ]
  },
  {
   "cell_type": "code",
   "execution_count": null,
   "id": "1db727d7",
   "metadata": {},
   "outputs": [
    {
     "data": {
      "text/plain": [
       "'Lata'"
      ]
     },
     "execution_count": 15,
     "metadata": {},
     "output_type": "execute_result"
    }
   ],
   "source": [
    "df.loc[df[\"Percentage\"].idxmax(),\"Name of the student\"]"
   ]
  },
  {
   "cell_type": "code",
   "execution_count": null,
   "id": "efda70f3",
   "metadata": {},
   "outputs": [
    {
     "data": {
      "text/plain": [
       "92.25"
      ]
     },
     "execution_count": 17,
     "metadata": {},
     "output_type": "execute_result"
    }
   ],
   "source": [
    "df[\"Percentage\"].max()"
   ]
  },
  {
   "cell_type": "code",
   "execution_count": 38,
   "id": "053967f1",
   "metadata": {},
   "outputs": [],
   "source": [
    "cc=df.groupby('Class')['Name'].count().reset_index()"
   ]
  },
  {
   "cell_type": "code",
   "execution_count": 44,
   "id": "92120c3b",
   "metadata": {},
   "outputs": [],
   "source": [
    "cc[\"Class\"]=cc[\"Class\"].astype(\"str\")\n",
    "# replace({\n",
    "#     7:\"7\",\n",
    "#     8:\"8\",\n",
    "#     6:\"6\"\n",
    "# })"
   ]
  },
  {
   "cell_type": "code",
   "execution_count": 45,
   "id": "232b3c0b",
   "metadata": {},
   "outputs": [
    {
     "name": "stdout",
     "output_type": "stream",
     "text": [
      "<class 'pandas.core.frame.DataFrame'>\n",
      "RangeIndex: 3 entries, 0 to 2\n",
      "Data columns (total 2 columns):\n",
      " #   Column  Non-Null Count  Dtype \n",
      "---  ------  --------------  ----- \n",
      " 0   Class   3 non-null      object\n",
      " 1   Name    3 non-null      int64 \n",
      "dtypes: int64(1), object(1)\n",
      "memory usage: 180.0+ bytes\n"
     ]
    }
   ],
   "source": [
    "cc.info()"
   ]
  },
  {
   "cell_type": "code",
   "execution_count": 46,
   "id": "3a2f6abb",
   "metadata": {},
   "outputs": [
    {
     "data": {
      "text/html": [
       "<div>\n",
       "<style scoped>\n",
       "    .dataframe tbody tr th:only-of-type {\n",
       "        vertical-align: middle;\n",
       "    }\n",
       "\n",
       "    .dataframe tbody tr th {\n",
       "        vertical-align: top;\n",
       "    }\n",
       "\n",
       "    .dataframe thead th {\n",
       "        text-align: right;\n",
       "    }\n",
       "</style>\n",
       "<table border=\"1\" class=\"dataframe\">\n",
       "  <thead>\n",
       "    <tr style=\"text-align: right;\">\n",
       "      <th></th>\n",
       "      <th>Class</th>\n",
       "      <th>Name</th>\n",
       "    </tr>\n",
       "  </thead>\n",
       "  <tbody>\n",
       "    <tr>\n",
       "      <th>0</th>\n",
       "      <td>6</td>\n",
       "      <td>42</td>\n",
       "    </tr>\n",
       "    <tr>\n",
       "      <th>1</th>\n",
       "      <td>7</td>\n",
       "      <td>26</td>\n",
       "    </tr>\n",
       "    <tr>\n",
       "      <th>2</th>\n",
       "      <td>8</td>\n",
       "      <td>31</td>\n",
       "    </tr>\n",
       "  </tbody>\n",
       "</table>\n",
       "</div>"
      ],
      "text/plain": [
       "  Class  Name\n",
       "0     6    42\n",
       "1     7    26\n",
       "2     8    31"
      ]
     },
     "execution_count": 46,
     "metadata": {},
     "output_type": "execute_result"
    }
   ],
   "source": [
    "cc"
   ]
  },
  {
   "cell_type": "code",
   "execution_count": 47,
   "id": "ab402f6d",
   "metadata": {},
   "outputs": [
    {
     "data": {
      "text/html": [
       "<div>\n",
       "<style scoped>\n",
       "    .dataframe tbody tr th:only-of-type {\n",
       "        vertical-align: middle;\n",
       "    }\n",
       "\n",
       "    .dataframe tbody tr th {\n",
       "        vertical-align: top;\n",
       "    }\n",
       "\n",
       "    .dataframe thead th {\n",
       "        text-align: right;\n",
       "    }\n",
       "</style>\n",
       "<table border=\"1\" class=\"dataframe\">\n",
       "  <thead>\n",
       "    <tr style=\"text-align: right;\">\n",
       "      <th></th>\n",
       "      <th>Name</th>\n",
       "      <th>Class</th>\n",
       "      <th>Section</th>\n",
       "      <th>Gender</th>\n",
       "      <th>Math</th>\n",
       "      <th>Science</th>\n",
       "      <th>English</th>\n",
       "      <th>History</th>\n",
       "      <th>Total</th>\n",
       "      <th>Percentage</th>\n",
       "    </tr>\n",
       "  </thead>\n",
       "  <tbody>\n",
       "    <tr>\n",
       "      <th>0</th>\n",
       "      <td>Aarav</td>\n",
       "      <td>8</td>\n",
       "      <td>B</td>\n",
       "      <td>Female</td>\n",
       "      <td>81</td>\n",
       "      <td>78</td>\n",
       "      <td>66</td>\n",
       "      <td>76</td>\n",
       "      <td>301</td>\n",
       "      <td>75.25</td>\n",
       "    </tr>\n",
       "    <tr>\n",
       "      <th>1</th>\n",
       "      <td>Sita</td>\n",
       "      <td>8</td>\n",
       "      <td>C</td>\n",
       "      <td>Male</td>\n",
       "      <td>88</td>\n",
       "      <td>81</td>\n",
       "      <td>97</td>\n",
       "      <td>75</td>\n",
       "      <td>341</td>\n",
       "      <td>85.25</td>\n",
       "    </tr>\n",
       "  </tbody>\n",
       "</table>\n",
       "</div>"
      ],
      "text/plain": [
       "    Name  Class Section  Gender  Math  Science  English  History  Total  \\\n",
       "0  Aarav      8       B  Female    81       78       66       76    301   \n",
       "1   Sita      8       C    Male    88       81       97       75    341   \n",
       "\n",
       "   Percentage  \n",
       "0       75.25  \n",
       "1       85.25  "
      ]
     },
     "execution_count": 47,
     "metadata": {},
     "output_type": "execute_result"
    }
   ],
   "source": [
    "df.head(2)"
   ]
  },
  {
   "cell_type": "code",
   "execution_count": 56,
   "id": "617fdcdd",
   "metadata": {},
   "outputs": [
    {
     "data": {
      "text/html": [
       "<div>\n",
       "<style scoped>\n",
       "    .dataframe tbody tr th:only-of-type {\n",
       "        vertical-align: middle;\n",
       "    }\n",
       "\n",
       "    .dataframe tbody tr th {\n",
       "        vertical-align: top;\n",
       "    }\n",
       "\n",
       "    .dataframe thead th {\n",
       "        text-align: right;\n",
       "    }\n",
       "</style>\n",
       "<table border=\"1\" class=\"dataframe\">\n",
       "  <thead>\n",
       "    <tr style=\"text-align: right;\">\n",
       "      <th></th>\n",
       "      <th>index</th>\n",
       "      <th>0</th>\n",
       "    </tr>\n",
       "  </thead>\n",
       "  <tbody>\n",
       "    <tr>\n",
       "      <th>0</th>\n",
       "      <td>Math</td>\n",
       "      <td>80.727273</td>\n",
       "    </tr>\n",
       "    <tr>\n",
       "      <th>1</th>\n",
       "      <td>Science</td>\n",
       "      <td>81.555556</td>\n",
       "    </tr>\n",
       "    <tr>\n",
       "      <th>2</th>\n",
       "      <td>English</td>\n",
       "      <td>83.151515</td>\n",
       "    </tr>\n",
       "    <tr>\n",
       "      <th>3</th>\n",
       "      <td>History</td>\n",
       "      <td>81.454545</td>\n",
       "    </tr>\n",
       "  </tbody>\n",
       "</table>\n",
       "</div>"
      ],
      "text/plain": [
       "     index          0\n",
       "0     Math  80.727273\n",
       "1  Science  81.555556\n",
       "2  English  83.151515\n",
       "3  History  81.454545"
      ]
     },
     "execution_count": 56,
     "metadata": {},
     "output_type": "execute_result"
    }
   ],
   "source": [
    "pd.DataFrame(df[[\"Math\",\"Science\",\"English\",\"History\"]].mean()).reset_index()"
   ]
  },
  {
   "cell_type": "code",
   "execution_count": 58,
   "id": "32fbb0b1",
   "metadata": {},
   "outputs": [],
   "source": [
    "val=df[[\"Math\",\"Science\",\"English\",\"History\"]].mean()"
   ]
  },
  {
   "cell_type": "code",
   "execution_count": 61,
   "id": "deef95c4",
   "metadata": {},
   "outputs": [
    {
     "data": {
      "text/html": [
       "<div>\n",
       "<style scoped>\n",
       "    .dataframe tbody tr th:only-of-type {\n",
       "        vertical-align: middle;\n",
       "    }\n",
       "\n",
       "    .dataframe tbody tr th {\n",
       "        vertical-align: top;\n",
       "    }\n",
       "\n",
       "    .dataframe thead th {\n",
       "        text-align: right;\n",
       "    }\n",
       "</style>\n",
       "<table border=\"1\" class=\"dataframe\">\n",
       "  <thead>\n",
       "    <tr style=\"text-align: right;\">\n",
       "      <th></th>\n",
       "      <th>0</th>\n",
       "    </tr>\n",
       "  </thead>\n",
       "  <tbody>\n",
       "    <tr>\n",
       "      <th>Math</th>\n",
       "      <td>80.727273</td>\n",
       "    </tr>\n",
       "    <tr>\n",
       "      <th>Science</th>\n",
       "      <td>81.555556</td>\n",
       "    </tr>\n",
       "    <tr>\n",
       "      <th>English</th>\n",
       "      <td>83.151515</td>\n",
       "    </tr>\n",
       "    <tr>\n",
       "      <th>History</th>\n",
       "      <td>81.454545</td>\n",
       "    </tr>\n",
       "  </tbody>\n",
       "</table>\n",
       "</div>"
      ],
      "text/plain": [
       "                 0\n",
       "Math     80.727273\n",
       "Science  81.555556\n",
       "English  83.151515\n",
       "History  81.454545"
      ]
     },
     "execution_count": 61,
     "metadata": {},
     "output_type": "execute_result"
    }
   ],
   "source": [
    "pd.DataFrame(val)"
   ]
  },
  {
   "cell_type": "code",
   "execution_count": 77,
   "id": "dd58953d",
   "metadata": {},
   "outputs": [
    {
     "data": {
      "text/plain": [
       "'Sita'"
      ]
     },
     "execution_count": 77,
     "metadata": {},
     "output_type": "execute_result"
    }
   ],
   "source": [
    "df[\"Name\"][1]"
   ]
  },
  {
   "cell_type": "code",
   "execution_count": 78,
   "id": "6dda7cd6",
   "metadata": {},
   "outputs": [],
   "source": [
    "ndf=df[df[\"Name\"]==\"Sita\"].reset_index()"
   ]
  },
  {
   "cell_type": "code",
   "execution_count": 79,
   "id": "a561fb4b",
   "metadata": {},
   "outputs": [
    {
     "data": {
      "text/html": [
       "<div>\n",
       "<style scoped>\n",
       "    .dataframe tbody tr th:only-of-type {\n",
       "        vertical-align: middle;\n",
       "    }\n",
       "\n",
       "    .dataframe tbody tr th {\n",
       "        vertical-align: top;\n",
       "    }\n",
       "\n",
       "    .dataframe thead th {\n",
       "        text-align: right;\n",
       "    }\n",
       "</style>\n",
       "<table border=\"1\" class=\"dataframe\">\n",
       "  <thead>\n",
       "    <tr style=\"text-align: right;\">\n",
       "      <th></th>\n",
       "      <th>index</th>\n",
       "      <th>Name</th>\n",
       "      <th>Class</th>\n",
       "      <th>Section</th>\n",
       "      <th>Gender</th>\n",
       "      <th>Math</th>\n",
       "      <th>Science</th>\n",
       "      <th>English</th>\n",
       "      <th>History</th>\n",
       "      <th>Total</th>\n",
       "      <th>Percentage</th>\n",
       "    </tr>\n",
       "  </thead>\n",
       "  <tbody>\n",
       "    <tr>\n",
       "      <th>0</th>\n",
       "      <td>1</td>\n",
       "      <td>Sita</td>\n",
       "      <td>8</td>\n",
       "      <td>C</td>\n",
       "      <td>Male</td>\n",
       "      <td>88</td>\n",
       "      <td>81</td>\n",
       "      <td>97</td>\n",
       "      <td>75</td>\n",
       "      <td>341</td>\n",
       "      <td>85.25</td>\n",
       "    </tr>\n",
       "  </tbody>\n",
       "</table>\n",
       "</div>"
      ],
      "text/plain": [
       "   index  Name  Class Section Gender  Math  Science  English  History  Total  \\\n",
       "0      1  Sita      8       C   Male    88       81       97       75    341   \n",
       "\n",
       "   Percentage  \n",
       "0       85.25  "
      ]
     },
     "execution_count": 79,
     "metadata": {},
     "output_type": "execute_result"
    }
   ],
   "source": [
    "ndf"
   ]
  },
  {
   "cell_type": "code",
   "execution_count": 72,
   "id": "20845b75",
   "metadata": {},
   "outputs": [
    {
     "data": {
      "text/plain": [
       "['Aarav', 8, 'B', 'Female', 81, 78, 66, 76, 301, 75.25]"
      ]
     },
     "execution_count": 72,
     "metadata": {},
     "output_type": "execute_result"
    }
   ],
   "source": [
    "list(ndf.iloc[0])"
   ]
  },
  {
   "cell_type": "code",
   "execution_count": 74,
   "id": "3cbce493",
   "metadata": {},
   "outputs": [
    {
     "data": {
      "text/plain": [
       "'Aarav'"
      ]
     },
     "execution_count": 74,
     "metadata": {},
     "output_type": "execute_result"
    }
   ],
   "source": [
    "ndf.loc[0,\"Name\"]"
   ]
  },
  {
   "cell_type": "code",
   "execution_count": 81,
   "id": "18339f74",
   "metadata": {},
   "outputs": [
    {
     "data": {
      "text/plain": [
       "Name           Aarav\n",
       "Class              8\n",
       "Section            B\n",
       "Gender        Female\n",
       "Math              81\n",
       "Science           78\n",
       "English           66\n",
       "History           76\n",
       "Total            301\n",
       "Percentage     75.25\n",
       "Name: 0, dtype: object"
      ]
     },
     "execution_count": 81,
     "metadata": {},
     "output_type": "execute_result"
    }
   ],
   "source": [
    "df[df[\"Name\"]==\"Aarav\"].iloc[0]"
   ]
  },
  {
   "cell_type": "code",
   "execution_count": 84,
   "id": "7cc2051d",
   "metadata": {},
   "outputs": [
    {
     "name": "stdout",
     "output_type": "stream",
     "text": [
      "[2, 3, 5]\n"
     ]
    }
   ],
   "source": [
    "lst=[1,2,3,4,5]\n",
    "l=lst[1:3]\n",
    "l.append(lst[4])\n",
    "print(l)"
   ]
  },
  {
   "cell_type": "code",
   "execution_count": 85,
   "id": "e51bb270",
   "metadata": {},
   "outputs": [
    {
     "data": {
      "text/plain": [
       "Index(['Name', 'Class', 'Section', 'Gender', 'Math', 'Science', 'English',\n",
       "       'History', 'Total', 'Percentage'],\n",
       "      dtype='object')"
      ]
     },
     "execution_count": 85,
     "metadata": {},
     "output_type": "execute_result"
    }
   ],
   "source": [
    "df.columns"
   ]
  },
  {
   "cell_type": "code",
   "execution_count": null,
   "id": "09d69562",
   "metadata": {},
   "outputs": [],
   "source": []
  }
 ],
 "metadata": {
  "kernelspec": {
   "display_name": "Python 3",
   "language": "python",
   "name": "python3"
  },
  "language_info": {
   "codemirror_mode": {
    "name": "ipython",
    "version": 3
   },
   "file_extension": ".py",
   "mimetype": "text/x-python",
   "name": "python",
   "nbconvert_exporter": "python",
   "pygments_lexer": "ipython3",
   "version": "3.12.0"
  }
 },
 "nbformat": 4,
 "nbformat_minor": 5
}
